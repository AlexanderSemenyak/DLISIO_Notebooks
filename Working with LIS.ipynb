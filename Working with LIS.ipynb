{
 "cells": [
  {
   "cell_type": "code",
   "execution_count": null,
   "metadata": {},
   "outputs": [],
   "source": [
    "# python 3.6.8\n",
    "# DLISIO v0.3.5\n",
    "# numpy v1.16.2\n",
    "# pandas v0.24.1\n",
    "# lasio v0.25.1\n",
    "\n",
    "from dlisio import lis\n",
    "import pandas as pd\n",
    "import os\n",
    "import lasio\n",
    "import numpy as np"
   ]
  },
  {
   "cell_type": "code",
   "execution_count": null,
   "metadata": {},
   "outputs": [],
   "source": [
    "# If you don't care about speed, and need the well names extracted from the lis header, set the find_wellname = Yes\n",
    "# Otherwise pass in the name of the well into the wellname variable.\n",
    "\n",
    "def extract_wellname(f, find_wellname, manualwellname):\n",
    "    if find_wellname == \"Yes\":\n",
    "        records = f.wellsite_data()\n",
    "        inforec = records[0] # assume well name in is in the first record\n",
    "        #Can it be structured? Otherwise return an error\n",
    "        if inforec.isstructured() == True:\n",
    "            np_array = (inforec.table(simple=True)).T\n",
    "            df = pd.DataFrame(data=np_array)\n",
    "            \n",
    "            wellname_list = []\n",
    "\n",
    "            items = ['Well Name', 'wellname', 'WN', 'WELL NAME'] ##set all the possible search terms\n",
    "\n",
    "            for item in items:\n",
    "                df[\"string_index\"] = df[\"VALU\"].str.find(str(item)).values\n",
    "                wellname = df.loc[df['string_index'] >= 0, 'VALU'].values.tolist()\n",
    "                #wellname = wellname[0] #take the first value returned.\n",
    "                wellname_list.append(wellname)\n",
    "\n",
    "                df[\"string_index\"] = df[\"MNEM\"].str.find(str(item)).values\n",
    "                wellname = df.loc[df['string_index'] >= 0, 'VALU'].values.tolist()\n",
    "                wellname_list.append(wellname)\n",
    "\n",
    "            wellname_list = [x for x in wellname_list if x != []]\n",
    "            for wellname in wellname_list:\n",
    "                wellname = [s.replace('Well Name:', '') for s in wellname]\n",
    "                wellname = [s.replace(' WN', '') for s in wellname]\n",
    "                wellname = [s.replace('Well Name ', '') for s in wellname]\n",
    "                wellname = [s.replace('WN', '') for s in wellname]\n",
    "                wellname = [s.strip() for s in wellname]\n",
    "                \n",
    "            wellname = wellname[0]   ##take the first item in the list\n",
    "            \n",
    "            if len(wellname)>0:\n",
    "                wellname_report_error = \"\"\n",
    "            else:\n",
    "                wellname_report_error = \"Could not read header - no name extraction\"\n",
    "        else:\n",
    "            wellname_report_error = \"Could not read header - not structured\"\n",
    "    else:\n",
    "        wellname = manualwellname\n",
    "    return wellname, wellname_report_error"
   ]
  },
  {
   "cell_type": "code",
   "execution_count": null,
   "metadata": {},
   "outputs": [],
   "source": [
    "# process each logical file and each sampling rate (frame) at a time. \n",
    "# The goal with this function is to only read from the lis file once!\n",
    "# The number of logical files times the number of groups of sample rates will determine the number of las files created.\n",
    "# Curves with no matching frame sample rate will not be included!!  See Fast Channels in the LIS User Guides @dlisio.readthedocs\n",
    "\n",
    "def read_curves_and_curve_meta(filepath, manualwellname = \"set input\", find_wellname = \"Yes\"):\n",
    "    curve_units = []\n",
    "    curve_names = []\n",
    "    curve_frames = []\n",
    "    frame_count = 0\n",
    "    with lis.load(filepath) as files:\n",
    "        for f in files:\n",
    "            wellname = extract_wellname(f, find_wellname, manualwellname)\n",
    "            for fs in f.data_format_specs():\n",
    "                for frame in fs.sample_rates():\n",
    "                    #create dataframe\n",
    "                    units = []\n",
    "                    curvenames = []\n",
    "                    meta = lis.curves_metadata(fs, sample_rate=frame)\n",
    "                    curves = lis.curves(f, fs, sample_rate=frame)\n",
    "                    curves_df = curves.T\n",
    "                    names = curves.dtype.names\n",
    "                    curves_df = pd.DataFrame(data=curves_df, columns=names)\n",
    "                    \n",
    "                    #get inventories\n",
    "                    for n in names:\n",
    "                        spec = meta[n]\n",
    "                        units.append(spec.units)\n",
    "                        curvenames.append(n)\n",
    "                    curve_names.append(curvenames)\n",
    "                    curve_units.append(units)\n",
    "                    \n",
    "                    # advance the count of sample rate frames\n",
    "                    frame_count = frame_count + 1\n",
    "                \n",
    "                    #Quick quality test\n",
    "                    unit_len = len(curve_units)\n",
    "                    name_len = len(curve_names)\n",
    "                    if unit_len != name_len:\n",
    "                        warning = \"Frame \"+ str(frame_count)+\" \"+\"Mismatch in number of names and units; use with caution.\"\n",
    "                    else:\n",
    "                        warning = \"\"\n",
    "                    print(warning)\n",
    "                curve_frames.append(curves_df)\n",
    "    report = (\"Number of frames = \" + str(frame_count))  \n",
    "    print(report)\n",
    "        \n",
    "    return curve_units, curve_names, curve_frames, wellname[0], warning, wellname[1], report"
   ]
  },
  {
   "cell_type": "code",
   "execution_count": null,
   "metadata": {},
   "outputs": [],
   "source": [
    "filepath = r\"C:\\Users\\aruss\\OneDrive - Equinor\\Desktop_2019\\Volve_Well_logs_pr_WELL\\15_9-F-4\\04.COMPOSITE\\WLC_PETROPHYSICAL_COMPOSITE_1.LIS\""
   ]
  },
  {
   "cell_type": "code",
   "execution_count": null,
   "metadata": {},
   "outputs": [],
   "source": [
    "filepath = r\"C:\\Users\\aruss\\OneDrive - Equinor\\Desktop_2019\\Volve_Well_logs_pr_WELL\\15_9-F-4\\01.MUD_LOG\\MUD_LOG_1.LIS\""
   ]
  },
  {
   "cell_type": "code",
   "execution_count": null,
   "metadata": {},
   "outputs": [],
   "source": [
    "results = read_curves_and_curve_meta(filepath)"
   ]
  },
  {
   "cell_type": "code",
   "execution_count": null,
   "metadata": {},
   "outputs": [],
   "source": [
    "results[0]"
   ]
  },
  {
   "cell_type": "code",
   "execution_count": null,
   "metadata": {},
   "outputs": [],
   "source": [
    "results[1]"
   ]
  },
  {
   "cell_type": "code",
   "execution_count": null,
   "metadata": {},
   "outputs": [],
   "source": [
    "results[2][0]"
   ]
  },
  {
   "cell_type": "code",
   "execution_count": null,
   "metadata": {},
   "outputs": [],
   "source": [
    "results[3]"
   ]
  },
  {
   "cell_type": "code",
   "execution_count": null,
   "metadata": {},
   "outputs": [],
   "source": [
    "##work in progress\n",
    "\n",
    "def convert_to_las(filepath, output_folder_location, null=-999.25, curve_units=results[0], curve_names=results[1],\n",
    "                  curves_df=results[3], wellname=results[3], warning=results[4]):\n",
    "    \n",
    "    filename = os.path.basename(filepath)\n",
    "    filename = os.path.splitext(filename)[0]\n",
    "\n"
   ]
  }
 ],
 "metadata": {
  "kernelspec": {
   "display_name": "Python 3",
   "language": "python",
   "name": "python3"
  },
  "language_info": {
   "codemirror_mode": {
    "name": "ipython",
    "version": 3
   },
   "file_extension": ".py",
   "mimetype": "text/x-python",
   "name": "python",
   "nbconvert_exporter": "python",
   "pygments_lexer": "ipython3",
   "version": "3.8.3"
  }
 },
 "nbformat": 4,
 "nbformat_minor": 4
}
