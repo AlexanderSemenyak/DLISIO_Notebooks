{
 "cells": [
  {
   "cell_type": "markdown",
   "metadata": {},
   "source": [
    "# DLISIO in a Nutshell"
   ]
  },
  {
   "cell_type": "markdown",
   "metadata": {},
   "source": [
    "## Importing"
   ]
  },
  {
   "cell_type": "code",
   "execution_count": null,
   "metadata": {},
   "outputs": [],
   "source": [
    "%matplotlib inline\n",
    "\n",
    "import os\n",
    "import pandas as pd\n",
    "import dlisio\n",
    "import matplotlib.pyplot as plt\n",
    "import numpy as np\n",
    "import numpy.lib.recfunctions as rfn"
   ]
  },
  {
   "cell_type": "markdown",
   "metadata": {},
   "source": [
    "### You can work with a single file using the cell below - or by adding an additional for loop to the code below, you can work through a list of files.  Another option is to use os.walk to get all .dlis files in a parent folder.  Example:\n",
    "\n",
    "    for (root, dirs, files) in os.walk(folderpath):\n",
    "        for f in files:\n",
    "            filepath = os.path.join(root, f)\n",
    "            if filepath.endswith('.' + 'dlis'):\n",
    "                print(filepath)\n",
    "                \n",
    "### But for this example, we will work with a single .dlis file specified in the cell below.  Note that there are some .dlis file formats that are not supported by DLISIO yet - good to catch them in a try except loop if you are reading files enmasse."
   ]
  },
  {
   "cell_type": "markdown",
   "metadata": {},
   "source": [
    "### We will load a file from the open source Volve dataset available here: https://data.equinor.com/dataset/Volve"
   ]
  },
  {
   "cell_type": "code",
   "execution_count": null,
   "metadata": {},
   "outputs": [],
   "source": [
    "filepath = r\"C:\\Users\\aruss\\Downloads\\Volve_Well_logs_pr_WELL\\15_9-F-4\\02.LWD_EWL\\WLC_RAW_CAL-DEN-GR-NEU-REMP_MWD_1.DLIS\""
   ]
  },
  {
   "cell_type": "markdown",
   "metadata": {},
   "source": [
    "## Reading a dlis file\n",
    "\n",
    "### DLISIO will check each channel (curve metadata), which we will build a pandas dataframe for, then look in each frame for the curve values. There can be multiple frames, so the frames are stored in the list called curves_l.  You can also print the objects in the files - a variety of metadata, but it will lock up your memory."
   ]
  },
  {
   "cell_type": "code",
   "execution_count": null,
   "metadata": {},
   "outputs": [],
   "source": [
    "curves_L = []\n",
    "curves_name = []\n",
    "longs = []\n",
    "unit = []\n",
    "with dlisio.load(filepath) as d:\n",
    "    for channel in d.channels:\n",
    "        curves_name.append(channel.name)\n",
    "        longs.append(channel.long_name)\n",
    "        unit.append(channel.units)\n",
    "    curve_index = pd.DataFrame(\n",
    "    {'Curve': curves_name,\n",
    "     'Long': longs,\n",
    "     'Unit': unit\n",
    "    })\n",
    "    for fram in d.frames:\n",
    "        fingerprint = fram.fingerprint\n",
    "        curves = d.curves(fingerprint)\n",
    "        curves_L.append(curves)\n",
    "    #for obj in d.objects:\n",
    "        #print(obj)"
   ]
  },
  {
   "cell_type": "markdown",
   "metadata": {},
   "source": [
    "## Curve Index"
   ]
  },
  {
   "cell_type": "code",
   "execution_count": null,
   "metadata": {},
   "outputs": [],
   "source": [
    "pd.set_option('display.max_rows', 1000)"
   ]
  },
  {
   "cell_type": "code",
   "execution_count": null,
   "metadata": {},
   "outputs": [],
   "source": [
    "curve_index[0:10]"
   ]
  },
  {
   "cell_type": "markdown",
   "metadata": {},
   "source": [
    "### Looks like we have some duplicates - we will catch these with a little bit of pandas and get a unique column name for each curve."
   ]
  },
  {
   "cell_type": "code",
   "execution_count": null,
   "metadata": {},
   "outputs": [],
   "source": [
    "curve_index['Dup'] = curve_index.duplicated('Curve')\n",
    "curve_index['Curve_Name'] = np.where(curve_index['Dup']==True, curve_index['Curve']+\"_1\", curve_index['Curve'])"
   ]
  },
  {
   "cell_type": "code",
   "execution_count": null,
   "metadata": {},
   "outputs": [],
   "source": [
    "curve_index[0:10]"
   ]
  },
  {
   "cell_type": "markdown",
   "metadata": {},
   "source": [
    "## Origin information (well name and header)"
   ]
  },
  {
   "cell_type": "markdown",
   "metadata": {},
   "source": [
    "### Using the origin. method you can print any item individually from the header, such as the well name below."
   ]
  },
  {
   "cell_type": "code",
   "execution_count": null,
   "metadata": {},
   "outputs": [],
   "source": [
    "with dlisio.load(filepath) as d:\n",
    "    for origin in d.origin:\n",
    "        print(origin)\n",
    "        well_name = origin.well_name"
   ]
  },
  {
   "cell_type": "code",
   "execution_count": null,
   "metadata": {},
   "outputs": [],
   "source": [
    "print (\"Well Name = \" + str(well_name))"
   ]
  },
  {
   "cell_type": "markdown",
   "metadata": {},
   "source": [
    "## Curve Values"
   ]
  },
  {
   "cell_type": "markdown",
   "metadata": {},
   "source": [
    "### The cell below will tell you how many frames exist in the file.  If you have mulitple frames, you will probably want to loop through the frames."
   ]
  },
  {
   "cell_type": "code",
   "execution_count": null,
   "metadata": {},
   "outputs": [],
   "source": [
    "len(curves_L)"
   ]
  },
  {
   "cell_type": "markdown",
   "metadata": {},
   "source": [
    "### We will look at one frame.  Curve values are outputted in a form called a structured array.  It takes a few more steps to work with them"
   ]
  },
  {
   "cell_type": "code",
   "execution_count": null,
   "metadata": {},
   "outputs": [],
   "source": [
    "curves_L[1]"
   ]
  },
  {
   "cell_type": "markdown",
   "metadata": {},
   "source": [
    "### You can query all the curves that exist in the frame using the dtype.names:"
   ]
  },
  {
   "cell_type": "code",
   "execution_count": null,
   "metadata": {},
   "outputs": [],
   "source": [
    "print(curves_L[1].dtype.names)"
   ]
  },
  {
   "cell_type": "markdown",
   "metadata": {},
   "source": [
    "### We can look at the values for one curve - for example looking at both TDEPs for each frame."
   ]
  },
  {
   "cell_type": "code",
   "execution_count": null,
   "metadata": {},
   "outputs": [],
   "source": [
    "curves_L[1][\"TDEP\"]"
   ]
  },
  {
   "cell_type": "code",
   "execution_count": null,
   "metadata": {},
   "outputs": [],
   "source": [
    "curves_L[0][\"TDEP\"]"
   ]
  },
  {
   "cell_type": "markdown",
   "metadata": {},
   "source": [
    "### Or look at the values for a list of curves"
   ]
  },
  {
   "cell_type": "code",
   "execution_count": null,
   "metadata": {},
   "outputs": [],
   "source": [
    "new_array = curves_L[1][['TDEP', 'RHOB','DRHO']]"
   ]
  },
  {
   "cell_type": "code",
   "execution_count": null,
   "metadata": {},
   "outputs": [],
   "source": [
    "new_array"
   ]
  },
  {
   "cell_type": "markdown",
   "metadata": {},
   "source": [
    "### Let's get the units and the long descriptions then of these three curves from the curve index.  And then plot the array.  We will set the -999.25 values to nan."
   ]
  },
  {
   "cell_type": "code",
   "execution_count": null,
   "metadata": {},
   "outputs": [],
   "source": [
    "curve_reindexed = curve_index.set_index('Curve_Name')\n",
    "curve_reindexed.loc[['TDEP','RHOB','DRHO']]"
   ]
  },
  {
   "cell_type": "code",
   "execution_count": null,
   "metadata": {},
   "outputs": [],
   "source": [
    "df = pd.DataFrame.from_records(new_array)\n",
    "df = df.set_index('TDEP')\n",
    "df = df.replace(-999.250000,np.NaN)"
   ]
  },
  {
   "cell_type": "code",
   "execution_count": null,
   "metadata": {},
   "outputs": [],
   "source": [
    "df.plot(kind='line',subplots=True,grid=True, legend='reverse')"
   ]
  },
  {
   "cell_type": "markdown",
   "metadata": {},
   "source": [
    "## Compound Arrays"
   ]
  },
  {
   "cell_type": "markdown",
   "metadata": {},
   "source": [
    "### Now sometimes curve values will have an array for a value at a certain index number - this gets trickier to handle.  Petrel for example won't even recognize that these curves exist in the dlis file.  These are set up as compound arrays.  Curve SAZ1 below has several samples that are actually arrays."
   ]
  },
  {
   "cell_type": "code",
   "execution_count": null,
   "metadata": {},
   "outputs": [],
   "source": [
    "print(curves_L[1].dtype.names[44])\n",
    "curves_L[1][44]"
   ]
  },
  {
   "cell_type": "markdown",
   "metadata": {},
   "source": [
    "### So we convert everything to tuples, which allows the arrays to be values at index levels in a pandas dataframe.  We get the column names from the nparray."
   ]
  },
  {
   "cell_type": "code",
   "execution_count": null,
   "metadata": {},
   "outputs": [],
   "source": [
    "converted_curves = tuple(curves_L[1])\n",
    "curves_df = pd.DataFrame.from_records(converted_curves, columns=curves_L[1].dtype.names)"
   ]
  },
  {
   "cell_type": "code",
   "execution_count": null,
   "metadata": {},
   "outputs": [],
   "source": [
    "curves_df = curves_df.set_index(\"TDEP\")\n",
    "curves_df = curves_df.replace(-999.25,np.NaN)"
   ]
  },
  {
   "cell_type": "code",
   "execution_count": null,
   "metadata": {},
   "outputs": [],
   "source": [
    "curves_df.iloc[300:315]"
   ]
  },
  {
   "cell_type": "code",
   "execution_count": null,
   "metadata": {},
   "outputs": [],
   "source": [
    "curves_df.iloc[:,0:20].plot(kind='line',subplots=True, figsize=(10,100),grid=True, legend='reverse')"
   ]
  },
  {
   "cell_type": "markdown",
   "metadata": {},
   "source": [
    "### We can use the value_counts method to see how many curves actually represent multiple values per sample:"
   ]
  },
  {
   "cell_type": "code",
   "execution_count": null,
   "metadata": {},
   "outputs": [],
   "source": [
    "curves_df.dtypes.value_counts()"
   ]
  },
  {
   "cell_type": "markdown",
   "metadata": {},
   "source": [
    "### And find their names and data:"
   ]
  },
  {
   "cell_type": "code",
   "execution_count": null,
   "metadata": {},
   "outputs": [],
   "source": [
    "curves_df.select_dtypes(['object']).iloc[300:315]"
   ]
  },
  {
   "cell_type": "markdown",
   "metadata": {},
   "source": [
    "### Taking another look at cuve SAZ1, we can see that it has arrays for each index and its type is an object."
   ]
  },
  {
   "cell_type": "code",
   "execution_count": null,
   "metadata": {},
   "outputs": [],
   "source": [
    "curve_reindexed.loc[['SAZ1']]"
   ]
  },
  {
   "cell_type": "code",
   "execution_count": null,
   "metadata": {},
   "outputs": [],
   "source": [
    "curves_df.SAZ1.iloc[0:10]"
   ]
  },
  {
   "cell_type": "markdown",
   "metadata": {},
   "source": [
    "### You can always expand out the values into their own columns using the apply method below:"
   ]
  },
  {
   "cell_type": "code",
   "execution_count": null,
   "metadata": {},
   "outputs": [],
   "source": [
    "curves_df['SAZ1'].apply(pd.Series).iloc[300:315]"
   ]
  },
  {
   "cell_type": "markdown",
   "metadata": {},
   "source": [
    "# Hopefully that is enough code to get you started working with DLISIO.  There is much more functionality which can be accessed with help(dlisio)"
   ]
  }
 ],
 "metadata": {
  "kernelspec": {
   "display_name": "Python 3",
   "language": "python",
   "name": "python3"
  },
  "language_info": {
   "codemirror_mode": {
    "name": "ipython",
    "version": 3
   },
   "file_extension": ".py",
   "mimetype": "text/x-python",
   "name": "python",
   "nbconvert_exporter": "python",
   "pygments_lexer": "ipython3",
   "version": "3.6.2"
  }
 },
 "nbformat": 4,
 "nbformat_minor": 2
}
