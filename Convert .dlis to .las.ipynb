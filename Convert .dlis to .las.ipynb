{
 "cells": [
  {
   "cell_type": "markdown",
   "metadata": {},
   "source": [
    "# Open Source convert .dlis to .las v2.0 using dlisio and lasio python packages"
   ]
  },
  {
   "cell_type": "markdown",
   "metadata": {},
   "source": [
    "## Still a work in progress.  Need to dos:\n",
    " - better control over curve metadata from different frames\n",
    " - package into a function.\n",
    "\n",
    "## But this code will handle multiple embedded files within a dlis and multiple frames in a single dlis.  This code will also handle scenarios where values are actually lists of values."
   ]
  },
  {
   "cell_type": "code",
   "execution_count": null,
   "metadata": {},
   "outputs": [],
   "source": [
    "import os\n",
    "import pandas as pd\n",
    "import numpy as np\n",
    "import lasio\n",
    "import dlisio\n",
    "from datetime import datetime"
   ]
  },
  {
   "cell_type": "code",
   "execution_count": null,
   "metadata": {},
   "outputs": [],
   "source": [
    "#filepath = r\"...\\Volve_Well_logs_pr_WELL\\15_9-F-4\\02.LWD_EWL\\WL_RAW_CAL-DEN-GR-NEU-REMP_MWD_1.DLIS\"\n",
    "filepath = r\"....\\Volve_Well_logs_pr_WELL\\15_9-F-4\\02.LWD_EWL\\WL_RAW_AAC_MWD_2.DLIS\""
   ]
  },
  {
   "cell_type": "code",
   "execution_count": null,
   "metadata": {},
   "outputs": [],
   "source": [
    "embedded_files = []\n",
    "origins = []\n",
    "frames = []\n",
    "frame_count = 0"
   ]
  },
  {
   "cell_type": "markdown",
   "metadata": {},
   "source": [
    "## First, you will want to figure out what your index track is called.  In most cases it is TDEP or TIME - but looking at the curve index below you can quickly find out."
   ]
  },
  {
   "cell_type": "code",
   "execution_count": null,
   "metadata": {},
   "outputs": [],
   "source": [
    "curves_name = []\n",
    "longs = []\n",
    "unit = []\n",
    "\n",
    "with dlisio.load(filepath) as file:\n",
    "    for d in file:\n",
    "        for channel in d.channels:\n",
    "            curves_name.append(channel.name)\n",
    "            longs.append(channel.long_name)\n",
    "            unit.append(channel.units)\n",
    "curve_index = pd.DataFrame(\n",
    "{'Curve': curves_name,\n",
    "'Long': longs,\n",
    "'Unit': unit\n",
    "})"
   ]
  },
  {
   "cell_type": "code",
   "execution_count": null,
   "metadata": {},
   "outputs": [],
   "source": [
    "curve_index"
   ]
  },
  {
   "cell_type": "markdown",
   "metadata": {},
   "source": [
    "### If it is TDEP or TIME we will put the index name automatically."
   ]
  },
  {
   "cell_type": "code",
   "execution_count": null,
   "metadata": {},
   "outputs": [],
   "source": [
    "if \"TDEP\" in curves_name:\n",
    "    index_name='TDEP'\n",
    "elif \"TIME\" in curves_name:\n",
    "    index_name='TIME'"
   ]
  },
  {
   "cell_type": "markdown",
   "metadata": {},
   "source": [
    "## And we need the units of the index tracks for the las header"
   ]
  },
  {
   "cell_type": "code",
   "execution_count": null,
   "metadata": {},
   "outputs": [],
   "source": [
    "unit = curve_index.loc[curve_index[\"Curve\"] == index_name, \"Unit\"].values[0]"
   ]
  },
  {
   "cell_type": "markdown",
   "metadata": {},
   "source": [
    "## Second we will read the dlis file for the curves values (from ndarray to pandas), expand out any values that are actually lists, assign the index track, get the metadata, and output the .las files.  One file will be outputted per embedded file per frame."
   ]
  },
  {
   "cell_type": "code",
   "execution_count": null,
   "metadata": {},
   "outputs": [],
   "source": [
    "with dlisio.load(filepath) as file:\n",
    "    for d in file:\n",
    "        curves_L = []\n",
    "        embedded_files.append(d)\n",
    "        for origin in d.origin:\n",
    "            origins.append(origin)\n",
    "            print(len(origins))\n",
    "        for fram in d.frames:\n",
    "            frame_count = frame_count+1\n",
    "            las = lasio.LASFile()\n",
    "            fingerprint = fram.fingerprint\n",
    "            curves = d.curves(fingerprint)\n",
    "            curves_L.append(curves)\n",
    "            converted_curves = tuple(curves)\n",
    "            curves_df = pd.DataFrame.from_records(converted_curves, columns=curves.dtype.names)\n",
    "            curves_df.head()\n",
    "            for column in curves_df:\n",
    "                if curves_df[column].dtype.name == 'object':\n",
    "                    curves_df = curves_df.assign(**pd.DataFrame(curves_df[column].values.tolist()).add_prefix(column))\n",
    "                    curves_df = curves_df.drop(columns=[column])\n",
    "            curves_df = curves_df.set_index(index_name)\n",
    "            las.set_data(curves_df)\n",
    "            las.curves[index_name].unit = unit\n",
    "            las.well.COMP = origin.company\n",
    "            las.well.WELL = origin.well_name\n",
    "            las.well.FLD = origin.field_name\n",
    "            las.well.SRVC = origin.producer_name\n",
    "            las.well.DATE = origin.creation_time\n",
    "            las.well.UWI = origin.well_id\n",
    "            las.well.API = origin.well_id\n",
    "            las.params['PROD'] = lasio.HeaderItem('PROD', value=origin.product)\n",
    "            las.params['PROG'] = lasio.HeaderItem('PROG', value=origin.programs)\n",
    "            las.params['RUN'] = lasio.HeaderItem('RUN', value=origin.run_nr)\n",
    "            las.params['DESCENT'] = lasio.HeaderItem('DESCENT', value=origin.descent_nr)\n",
    "            las.params['VERSION'] = lasio.HeaderItem('VERSION', value=origin.version)\n",
    "            las.params['LINEAGE'] = lasio.HeaderItem('LINEAGE', value=\"Python-converted from DLIS\")\n",
    "            las.params['ORFILE'] = lasio.HeaderItem('ORFILE', value=filepath)\n",
    "            las.write('C:\\\\Users\\\\aruss\\\\OneDrive - Equinor\\\\CDA Data\\\\DLIS LAS Conversion\\\\scratch_v2_'+str(frame_count)+'.las', version=2)"
   ]
  },
  {
   "cell_type": "markdown",
   "metadata": {},
   "source": [
    "## Warnings :  You will get more than one las file as output if there are multiple files in a single .dlis or multiple frames in a single .dlis"
   ]
  },
  {
   "cell_type": "code",
   "execution_count": null,
   "metadata": {},
   "outputs": [],
   "source": [
    "print(\"embedded_files: \"+str(len(embedded_files)))\n",
    "print(\"This file has \"+str(len(origins))+ \" metadata headers.  This code has used the first.\")\n",
    "print(\"number of frames: \"+str(frame_count))"
   ]
  },
  {
   "cell_type": "code",
   "execution_count": null,
   "metadata": {},
   "outputs": [],
   "source": []
  }
 ],
 "metadata": {
  "kernelspec": {
   "display_name": "Python 3",
   "language": "python",
   "name": "python3"
  },
  "language_info": {
   "codemirror_mode": {
    "name": "ipython",
    "version": 3
   },
   "file_extension": ".py",
   "mimetype": "text/x-python",
   "name": "python",
   "nbconvert_exporter": "python",
   "pygments_lexer": "ipython3",
   "version": "3.6.8"
  }
 },
 "nbformat": 4,
 "nbformat_minor": 2
}
